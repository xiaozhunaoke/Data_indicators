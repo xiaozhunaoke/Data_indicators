{
 "cells": [
  {
   "cell_type": "code",
   "execution_count": 1,
   "metadata": {},
   "outputs": [],
   "source": [
    "from datetime import date\n",
    "import requests\n",
    "from bs4 import BeautifulSoup\n",
    "import pandas as pd"
   ]
  },
  {
   "cell_type": "code",
   "execution_count": null,
   "metadata": {},
   "outputs": [],
   "source": []
  },
  {
   "cell_type": "code",
   "execution_count": 2,
   "metadata": {},
   "outputs": [],
   "source": [
    "URL = 'https://coinmarketcap.com/currencies/bitcoin/historical-data/?start=20130428&end=20200503'\n",
    "page = requests.get(URL)\n",
    "soup = BeautifulSoup(page.content, 'html.parser')\n",
    "results= soup.find('div', class_='cmc-table__table-wrapper-outer').find('thead')\n",
    "#for result in results:\n",
    "    #btc_price = result\n",
    "#btc_price\n",
    "#results"
   ]
  },
  {
   "cell_type": "code",
   "execution_count": 3,
   "metadata": {},
   "outputs": [
    {
     "data": {
      "text/plain": [
       "['Date', 'Open*', 'High', 'Low', 'Close**', 'Volume', 'Market Cap']"
      ]
     },
     "execution_count": 3,
     "metadata": {},
     "output_type": "execute_result"
    }
   ],
   "source": [
    "clounms_name=[th.text for th in results.tr.find_all('th')]\n",
    "clounms_name"
   ]
  },
  {
   "cell_type": "code",
   "execution_count": null,
   "metadata": {},
   "outputs": [],
   "source": [
    "rows_d=soup.find_all('tr', class_='cmc-table-row')\n",
    "#rows_d"
   ]
  },
  {
   "cell_type": "code",
   "execution_count": null,
   "metadata": {},
   "outputs": [],
   "source": [
    "data_rows=[]\n",
    "for tr in rows_d:\n",
    "    rows=[td.text for td in tr.find_all('td')]\n",
    "    data_rows.append(rows)\n",
    "data_rows[0]"
   ]
  },
  {
   "cell_type": "code",
   "execution_count": null,
   "metadata": {},
   "outputs": [],
   "source": [
    "df =pd.DataFrame(data_rows,columns=clounms_name)\n",
    "\n",
    "del df['High']\n",
    "data=df[['Date','Open*']]\n",
    "data.head()"
   ]
  },
  {
   "cell_type": "code",
   "execution_count": null,
   "metadata": {},
   "outputs": [],
   "source": [
    "data1=pd.DataFrame(columns=['Date','Open*'])\n",
    "for x in range(len(data)):\n",
    "    data1=data1.append(data.iloc[-(x+1)])\n",
    "data1=data1.reset_index(drop=True)\n",
    "data1.head()"
   ]
  },
  {
   "cell_type": "code",
   "execution_count": null,
   "metadata": {},
   "outputs": [],
   "source": [
    "data1['Open*']=data1['Open*'].str.replace(',','').astype(float)\n",
    "data1.loc[1]['Open*']"
   ]
  },
  {
   "cell_type": "code",
   "execution_count": null,
   "metadata": {},
   "outputs": [],
   "source": [
    "increase=[0]\n",
    "for i in range(1,len(data1)):\n",
    "    si_increase=(data1.loc[i]['Open*']-data1.loc[i-1]['Open*'])/data1.loc[i-1]['Open*']*100\n",
    "    #si_increase=format(si_increase,'.2%')  #按百分比数据列示\n",
    "    #si_increase=\"%.2f%%\"%(si_increase*100)\n",
    "    si_increase=si_increase.round(4)\n",
    "    increase.append(si_increase)\n",
    "increase[0:8]\n",
    "#Single_day_Increase=\"%.2f%%\"%(increase*100)\n",
    "#Single_day_Increase"
   ]
  },
  {
   "cell_type": "code",
   "execution_count": null,
   "metadata": {},
   "outputs": [],
   "source": [
    "data1['Single_day_Increase(%)']=increase\n",
    "data1.head()"
   ]
  },
  {
   "cell_type": "code",
   "execution_count": null,
   "metadata": {},
   "outputs": [],
   "source": [
    "\n",
    "#single_in=data1['Single_day_Increase'].str.replace('%','').astype(float)/100\n",
    "#single_in"
   ]
  },
  {
   "cell_type": "code",
   "execution_count": null,
   "metadata": {},
   "outputs": [],
   "source": [
    "sixty_days_increase = [0.00]*59\n",
    "for i in range(59,len(data1)):\n",
    "    sixty_days_in=data1.loc[i-59:i]['Single_day_Increase(%)']\n",
    "    sixty_days_in=sum(sixty_days_in)\n",
    "    sixty_days_increase.append(sixty_days_in)\n",
    "sixty_days_increase\n",
    "data1['Sixty_Days_Increase(%)']=sixty_days_increase\n",
    "data1.head(-5)"
   ]
  },
  {
   "cell_type": "code",
   "execution_count": null,
   "metadata": {},
   "outputs": [],
   "source": [
    "data1['Date']=data1['Date'].str.replace(',','')\n",
    "data1['Date']=pd.to_datetime(data1['Date'])\n",
    "data1.loc[0]['Date']"
   ]
  },
  {
   "cell_type": "code",
   "execution_count": null,
   "metadata": {},
   "outputs": [],
   "source": [
    "data1['Date']=data1['Date'].dt.date\n",
    "data1.loc[0]['Date']"
   ]
  },
  {
   "cell_type": "code",
   "execution_count": null,
   "metadata": {},
   "outputs": [],
   "source": [
    "data1.head()"
   ]
  },
  {
   "cell_type": "code",
   "execution_count": null,
   "metadata": {},
   "outputs": [],
   "source": [
    "data1.to_csv('BTC_price_history.csv')"
   ]
  },
  {
   "cell_type": "code",
   "execution_count": null,
   "metadata": {},
   "outputs": [],
   "source": [
    "import matplotlib.pyplot as plt"
   ]
  },
  {
   "cell_type": "code",
   "execution_count": null,
   "metadata": {},
   "outputs": [],
   "source": [
    "data_plt=data1[['Date','Sixty_Days_Increase(%)']]\n",
    "data_plt=data_plt[59:]\n",
    "#data_plt.plot(figsize = (20,10))\n",
    "data_plt.plot(kind='line', x='Date', y='Sixty_Days_Increase(%)', ax= plt.gca(), grid=True,figsize = (20,10))"
   ]
  }
 ],
 "metadata": {
  "kernelspec": {
   "display_name": "Python 3",
   "language": "python",
   "name": "python3"
  },
  "language_info": {
   "codemirror_mode": {
    "name": "ipython",
    "version": 3
   },
   "file_extension": ".py",
   "mimetype": "text/x-python",
   "name": "python",
   "nbconvert_exporter": "python",
   "pygments_lexer": "ipython3",
   "version": "3.7.5"
  }
 },
 "nbformat": 4,
 "nbformat_minor": 4
}
